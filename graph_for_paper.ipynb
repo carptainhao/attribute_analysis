{
 "cells": [
  {
   "cell_type": "code",
   "execution_count": 1,
   "metadata": {
    "collapsed": true
   },
   "outputs": [],
   "source": [
    "import scipy.io as sio\n",
    "import sys\n",
    "from scipy.spatial import distance\n",
    "import matplotlib.pyplot as plt\n",
    "%matplotlib inline"
   ]
  },
  {
   "cell_type": "code",
   "execution_count": 2,
   "metadata": {
    "collapsed": true
   },
   "outputs": [],
   "source": [
    "# Parses from a file that gives mapping from file names to labels\n",
    "def parse_celeba_labels(path):\n",
    "\tf = open(path, 'r')\n",
    "\tcount = 0\n",
    "\tfile_to_label = {}\n",
    "\tfor line in f:\n",
    "\t\tarr = line.split(\" \")\n",
    "\t\tif len(arr) == 2:\n",
    "\t\t\tfile_to_label[arr[0]] = int(arr[1].split(\"\\n\")[0])\n",
    "\treturn file_to_label\n",
    "\n",
    "# Returns data and corresponding labels\n",
    "def get_celeb_a_dataset(path_data, path_labels):\n",
    "\t# Dictionary mapping file names to labels\n",
    "\tfile_to_label = parse_celeba_labels(path_labels)\n",
    "\tf = open(path_data, 'r')\n",
    "\n",
    "\t# Skip first two lines of the file\n",
    "\tf.readline()\n",
    "\tf.readline()\n",
    "\n",
    "\tcount = 0\n",
    "\tlabels = []\n",
    "\tdata = []\n",
    "\tfor line in f:\n",
    "\t\ttemp = []\n",
    "\t\tarr = line.split()\n",
    "\t\tfor elem in arr[1:]:\n",
    "\t\t\tif int(elem) < 0:\n",
    "\t\t\t\ttemp.append(0)\n",
    "\t\t\telse:\n",
    "\t\t\t\ttemp.append(1)\n",
    "\t\tdata.append(temp)\n",
    "\t\tlabels.append(file_to_label[arr[0]])\n",
    "\treturn data, labels\n",
    "\n",
    "# Testing\n",
    "data, labels = get_celeb_a_dataset(\"celeb_a_data.txt\", \"celeb_a_labels.txt\")\n",
    "\n",
    "\n"
   ]
  },
  {
   "cell_type": "code",
   "execution_count": 3,
   "metadata": {
    "collapsed": false
   },
   "outputs": [
    {
     "name": "stdout",
     "output_type": "stream",
     "text": [
      "202599\n",
      "[0, 1, 1, 0, 0, 0, 1, 0, 1, 0, 0, 0, 0, 0, 0, 0, 0, 0, 1, 1, 0, 0, 0, 0, 1, 0, 0, 0, 0, 0, 0, 0, 0, 1, 0, 0, 1, 0, 0, 1]\n"
     ]
    }
   ],
   "source": [
    "print len(data)\n",
    "print data[34]"
   ]
  },
  {
   "cell_type": "code",
   "execution_count": 4,
   "metadata": {
    "collapsed": false
   },
   "outputs": [
    {
     "name": "stdout",
     "output_type": "stream",
     "text": [
      "202599\n"
     ]
    }
   ],
   "source": [
    "print len(labels)"
   ]
  },
  {
   "cell_type": "code",
   "execution_count": 5,
   "metadata": {
    "collapsed": false
   },
   "outputs": [
    {
     "name": "stdout",
     "output_type": "stream",
     "text": [
      "0.225\n",
      "[0, 1, 1, 0, 0, 0, 0, 0, 0, 0, 0, 1, 0, 0, 0, 0, 0, 0, 1, 1, 0, 1, 0, 0, 1, 0, 0, 1, 0, 0, 0, 1, 1, 0, 1, 0, 1, 0, 0, 1]\n",
      "[0, 0, 0, 1, 0, 0, 0, 1, 0, 0, 0, 1, 0, 0, 0, 0, 0, 0, 0, 1, 0, 1, 0, 0, 1, 0, 0, 0, 0, 0, 0, 1, 0, 0, 0, 0, 0, 0, 0, 1]\n",
      "40\n"
     ]
    }
   ],
   "source": [
    "labels[2]\n",
    "print distance.hamming(data[0], data[1])\n",
    "print data[0]\n",
    "print data[1]\n",
    "print len(data[1])"
   ]
  },
  {
   "cell_type": "code",
   "execution_count": 6,
   "metadata": {
    "collapsed": false
   },
   "outputs": [],
   "source": [
    "dic = {}\n",
    "count = 0\n",
    "for elem in labels:\n",
    "    if elem in dic:\n",
    "        dic[elem].append(count)\n",
    "    else:\n",
    "        dic[elem] = [count]\n",
    "    count += 1\n"
   ]
  },
  {
   "cell_type": "code",
   "execution_count": null,
   "metadata": {
    "collapsed": false
   },
   "outputs": [],
   "source": []
  },
  {
   "cell_type": "code",
   "execution_count": 8,
   "metadata": {
    "collapsed": true
   },
   "outputs": [],
   "source": [
    "def calculate_distance(i,j):\n",
    "    return distance.hamming(data[i], data[j])"
   ]
  },
  {
   "cell_type": "code",
   "execution_count": 9,
   "metadata": {
    "collapsed": false
   },
   "outputs": [],
   "source": [
    "same_distance = []\n",
    "for same in dic:\n",
    "    i = 0\n",
    "    while i < len(dic[same]):\n",
    "        j = i + 1\n",
    "        while j < len(dic[same]):\n",
    "            same_distance.append(calculate_distance(dic[same][i], dic[same][j]))\n",
    "            j += 1\n",
    "        i += 1\n"
   ]
  },
  {
   "cell_type": "code",
   "execution_count": 15,
   "metadata": {
    "collapsed": false
   },
   "outputs": [
    {
     "data": {
      "image/png": "[encoded data removed]",
      "text/plain": [
       "<matplotlib.figure.Figure at 0x7f6795195090>"
      ]
     },
     "metadata": {},
     "output_type": "display_data"
    }
   ],
   "source": [
    "plt.hist(same_distance, bins = 41, range = [0,1])\n",
    "plt.title(\"Distance Matrix of Same Person\")\n",
    "plt.xlabel(\"Distance Values of Same Person\")\n",
    "plt.ylabel(\"Counts\")\n",
    "plt.show()"
   ]
  },
  {
   "cell_type": "code",
   "execution_count": 16,
   "metadata": {
    "collapsed": true
   },
   "outputs": [],
   "source": [
    "same_array = dic.keys()"
   ]
  },
  {
   "cell_type": "code",
   "execution_count": null,
   "metadata": {
    "collapsed": false
   },
   "outputs": [],
   "source": [
    "different_distance = []\n",
    "i = 0\n",
    "while i < len(same_array):\n",
    "    j = i + 1\n",
    "    while j < len(same_array):\n",
    "        for elem1 in dic[same_array[i]]:\n",
    "            for elem2 in dic[same_array[j]]:\n",
    "                different_distance.append(calculate_distance(elem1, elem2))\n",
    "        j += 1\n",
    "    i += 1\n"
   ]
  },
  {
   "cell_type": "code",
   "execution_count": null,
   "metadata": {
    "collapsed": false
   },
   "outputs": [],
   "source": [
    "len(same_array)"
   ]
  },
  {
   "cell_type": "code",
   "execution_count": null,
   "metadata": {
    "collapsed": false
   },
   "outputs": [],
   "source": [
    "plt.hist(different_distance, bins = 41, range = [0,1])\n",
    "plt.title(\"Distance Matrix of Same Person\")\n",
    "plt.xlabel(\"Distance Values of Same Person\")\n",
    "plt.ylabel(\"Counts\")\n",
    "plt.show()"
   ]
  },
  {
   "cell_type": "code",
   "execution_count": null,
   "metadata": {
    "collapsed": true
   },
   "outputs": [],
   "source": []
  }
 ],
 "metadata": {
  "anaconda-cloud": {},
  "kernelspec": {
   "display_name": "Python [Root]",
   "language": "python",
   "name": "Python [Root]"
  },
  "language_info": {
   "codemirror_mode": {
    "name": "ipython",
    "version": 2
   },
   "file_extension": ".py",
   "mimetype": "text/x-python",
   "name": "python",
   "nbconvert_exporter": "python",
   "pygments_lexer": "ipython2",
   "version": "2.7.12"
  }
 },
 "nbformat": 4,
 "nbformat_minor": 0
}
