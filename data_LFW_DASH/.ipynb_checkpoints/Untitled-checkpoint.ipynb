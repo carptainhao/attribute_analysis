{
 "cells": [
  {
   "cell_type": "code",
   "execution_count": 12,
   "metadata": {
    "collapsed": true
   },
   "outputs": [],
   "source": [
    "%matplotlib inline\n"
   ]
  },
  {
   "cell_type": "code",
   "execution_count": 1,
   "metadata": {
    "collapsed": true
   },
   "outputs": [],
   "source": [
    "sex = [0]\n",
    "ethnicity = [1,2,3,57]\n",
    "age = [4,5,6,7,8]\n",
    "hair_color = [9,10,11,12,58]\n",
    "glasses = [13,14]\n",
    "facial_hair = [16,45,46]\n",
    "hair_style = [25,26,27,28,29,30]\n",
    "eyebrows = [34,35]\n",
    "eye = [36,69]\n",
    "facial_structure = [19,38,39,40,47,48,50,51,52,68]\n",
    "\n",
    "identity = set(sex+ethnicity+age+hair_color+glasses+facial_hair+hair_style+eyebrows+eye+facial_structure)\n",
    "\n",
    "picture_quality = [20,21,22,23,53,54]\n",
    "click_specifics = [31,32,33,37,41,42,43,44]\n",
    "makeup = [59,60,61,62,63,64,65,66,67]\n",
    "attractiveness = [55,56]\n",
    "emotions = [17,18]\n",
    "accessories = [15,24,49,70,71,72]\n",
    "\n",
    "irrelevant = set(picture_quality+click_specifics+makeup+attractiveness+emotions+accessories)\n",
    "\n",
    "\n",
    "import numpy as np\n",
    "import scipy\n",
    "import scipy.io as sio\n",
    "import sys\n",
    "from scipy.spatial import distance\n",
    "\n",
    "hashcodes_name = 'LFW_hash512_randomcrop_prelu_newproto_rgb_notV7.3.mat'\n",
    "hashcodes_file_full = hashcodes_name\n",
    "hashcodes_mat = sio.loadmat(hashcodes_file_full)\n",
    "all_templates = hashcodes_mat['templates']\n",
    "nb_samples = hashcodes_mat['templates'].shape[1]\n",
    "all_samples_files = []\n",
    "for i in range(nb_samples):\n",
    "    all_samples_files.append(str(np.squeeze(all_templates[0,i][2])))\n",
    "\n",
    "\n"
   ]
  },
  {
   "cell_type": "code",
   "execution_count": 34,
   "metadata": {
    "collapsed": false
   },
   "outputs": [],
   "source": [
    "\n",
    "\n",
    "fulldist_name = 'LFW_full_hamming_dist.mat'\n",
    "fulldist_file = fulldist_name\n",
    "fulldist = sio.loadmat(fulldist_file)\n",
    "fulldist_np = fulldist['full_hamming_dist']\n",
    "\n",
    "f = open('lfw_attributes.txt', 'r')\n",
    "f.readline()\n",
    "f.readline()\n",
    "labels = []\n",
    "data = []\n",
    "count = 0\n",
    "current = \"\"\n",
    "curr_arr = []\n",
    "final_graph_list= []\n",
    "for line in f:\n",
    "    count += 1\n",
    "    line = line.split(\"\\n\")[0]\n",
    "    arr = line.split(\"\t\")\n",
    "    label = arr[0]\n",
    "    if label == current:\n",
    "        curr_arr.append(count)\n",
    "    else:\n",
    "        if len(curr_arr) > 1:\n",
    "            final_graph_list.append(curr_arr)\n",
    "        curr_arr = []\n",
    "        current = label\n",
    "    features = []\n",
    "    attribute_num = 0\n",
    "    for elem in arr[2:]:\n",
    "        if attribute_num in identity:\n",
    "            if float(elem) <= 0.3:\n",
    "                features.append(0)\n",
    "            else:\n",
    "                features.append(1)\n",
    "        attribute_num+=1\n",
    "    retVal = []\n",
    "    for elem in label.split():\n",
    "        retVal.append(elem)\n",
    "    labels.append(\"_\".join(retVal) + \"_\" + str(arr[1]).zfill(4) + \".jpg\")\n",
    "    data.append(np.array(features))\n",
    "data = np.array(data)\n",
    "\n"
   ]
  },
  {
   "cell_type": "code",
   "execution_count": 35,
   "metadata": {
    "collapsed": false
   },
   "outputs": [],
   "source": [
    "\n",
    "\n",
    "fulldist_name = 'LFW_full_hamming_dist.mat'\n",
    "fulldist_file = fulldist_name\n",
    "fulldist = sio.loadmat(fulldist_file)\n",
    "fulldist_np = fulldist['full_hamming_dist']\n",
    "\n",
    "f = open('lfw_attributes.txt', 'r')\n",
    "f.readline()\n",
    "f.readline()\n",
    "labels = []\n",
    "data1 = []\n",
    "count = 0\n",
    "for line in f:\n",
    "    count += 1\n",
    "    line = line.split(\"\\n\")[0]\n",
    "    arr = line.split(\"\t\")\n",
    "    label = arr[0] \n",
    "    features = []\n",
    "    attribute_num = 0\n",
    "    for elem in arr[2:]:\n",
    "        if attribute_num in irrelevant:\n",
    "            if float(elem) <= 0.3:\n",
    "                features.append(0)\n",
    "            else:\n",
    "                features.append(1)\n",
    "        attribute_num+=1\n",
    "    retVal = []\n",
    "    for elem in label.split():\n",
    "        retVal.append(elem)\n",
    "    labels.append(\"_\".join(retVal) + \"_\" + str(arr[1]).zfill(4) + \".jpg\")\n",
    "    data1.append(np.array(features))\n",
    "data1 = np.array(data1)\n",
    "\n"
   ]
  },
  {
   "cell_type": "code",
   "execution_count": 4,
   "metadata": {
    "collapsed": true
   },
   "outputs": [],
   "source": [
    "\n",
    "labels_count = 0\n",
    "hash_count = 0\n",
    "count = 0\n",
    "dictionary = {}\n",
    "for elem in labels:\n",
    "    dictionary[elem] = True\n",
    "count = 0\n",
    "colDel = []\n",
    "for elem in all_samples_files:\n",
    "    if elem not in dictionary:\n",
    "        colDel.append(count)\n",
    "    count += 1\n",
    "count = len(colDel) - 1\n",
    "while count >= 0:\n",
    "    fulldist_np = scipy.delete(fulldist_np, colDel[count], 0)  # delete second row of A\n",
    "    fulldist_np = scipy.delete(fulldist_np, colDel[count], 1)  # delete second column of C\n",
    "    count = count - 1\n",
    "\n"
   ]
  },
  {
   "cell_type": "code",
   "execution_count": 8,
   "metadata": {
    "collapsed": true
   },
   "outputs": [],
   "source": [
    "import matplotlib.mlab as mlab\n",
    "import matplotlib.pyplot as plt\n",
    "\n",
    "data_dist = distance.cdist(data, data, 'hamming')\n",
    "data_dist1 = distance.cdist(data1, data1, 'hamming')"
   ]
  },
  {
   "cell_type": "code",
   "execution_count": 18,
   "metadata": {
    "collapsed": false
   },
   "outputs": [
    {
     "data": {
      "image/png": "[encoded data removed]",
      "text/plain": [
       "<matplotlib.figure.Figure at 0x1e4959590>"
      ]
     },
     "metadata": {},
     "output_type": "display_data"
    }
   ],
   "source": [
    "# 3,4,5,6\n",
    "\n",
    "x = [fulldist_np[3][4], fulldist_np[3][5], fulldist_np[3][6], fulldist_np[4][5], fulldist_np[4][6], fulldist_np[5][6]]\n",
    "y = [data_dist[3][4], data_dist[3][5], data_dist[3][6], data_dist[4][5], data_dist[4][6], data_dist[5][6]]\n",
    "y1 = [data_dist1[3][4], data_dist1[3][5], data_dist1[3][6], data_dist1[4][5], data_dist1[4][6], data_dist1[5][6]]\n",
    "\n",
    "plt.scatter(x,y, color = 'red')\n",
    "plt.scatter(x,y1)\n",
    "plt.show()"
   ]
  },
  {
   "cell_type": "code",
   "execution_count": 36,
   "metadata": {
    "collapsed": false
   },
   "outputs": [
    {
     "name": "stdout",
     "output_type": "stream",
     "text": [
      "Aaron Peirsol,Aaron Peirsol\n"
     ]
    },
    {
     "name": "stderr",
     "output_type": "stream",
     "text": [
      "/Users/harishshanker/anaconda2/lib/python2.7/site-packages/ipykernel/__main__.py:13: VisibleDeprecationWarning: using a non-integer number instead of an integer will result in an error in the future\n"
     ]
    },
    {
     "ename": "IndexError",
     "evalue": "only integers, slices (`:`), ellipsis (`...`), numpy.newaxis (`None`) and integer or boolean arrays are valid indices",
     "output_type": "error",
     "traceback": [
      "\u001b[0;31m---------------------------------------------------------------------------\u001b[0m",
      "\u001b[0;31mIndexError\u001b[0m                                Traceback (most recent call last)",
      "\u001b[0;32m<ipython-input-36-225fa5198075>\u001b[0m in \u001b[0;36m<module>\u001b[0;34m()\u001b[0m\n\u001b[1;32m     11\u001b[0m             \u001b[0;32mif\u001b[0m \u001b[0mx\u001b[0m \u001b[0;34m!=\u001b[0m \u001b[0my\u001b[0m\u001b[0;34m:\u001b[0m\u001b[0;34m\u001b[0m\u001b[0m\n\u001b[1;32m     12\u001b[0m                 \u001b[0;32mprint\u001b[0m \u001b[0mstr\u001b[0m\u001b[0;34m(\u001b[0m\u001b[0melem\u001b[0m\u001b[0;34m[\u001b[0m\u001b[0mx\u001b[0m\u001b[0;34m]\u001b[0m\u001b[0;34m)\u001b[0m \u001b[0;34m+\u001b[0m \u001b[0;34m\",\"\u001b[0m \u001b[0;34m+\u001b[0m \u001b[0mstr\u001b[0m\u001b[0;34m(\u001b[0m\u001b[0melem\u001b[0m\u001b[0;34m[\u001b[0m\u001b[0my\u001b[0m\u001b[0;34m]\u001b[0m\u001b[0;34m)\u001b[0m\u001b[0;34m\u001b[0m\u001b[0m\n\u001b[0;32m---> 13\u001b[0;31m                 \u001b[0marr1\u001b[0m\u001b[0;34m.\u001b[0m\u001b[0mappend\u001b[0m\u001b[0;34m(\u001b[0m\u001b[0mfulldist_np\u001b[0m\u001b[0;34m[\u001b[0m\u001b[0melem\u001b[0m\u001b[0;34m[\u001b[0m\u001b[0mx\u001b[0m\u001b[0;34m]\u001b[0m\u001b[0;34m]\u001b[0m\u001b[0;34m[\u001b[0m\u001b[0melem\u001b[0m\u001b[0;34m[\u001b[0m\u001b[0my\u001b[0m\u001b[0;34m]\u001b[0m\u001b[0;34m]\u001b[0m\u001b[0;34m)\u001b[0m\u001b[0;34m\u001b[0m\u001b[0m\n\u001b[0m\u001b[1;32m     14\u001b[0m                 \u001b[0marr2\u001b[0m\u001b[0;34m.\u001b[0m\u001b[0mappend\u001b[0m\u001b[0;34m(\u001b[0m\u001b[0mdata_dist\u001b[0m\u001b[0;34m[\u001b[0m\u001b[0melem\u001b[0m\u001b[0;34m[\u001b[0m\u001b[0mx\u001b[0m\u001b[0;34m]\u001b[0m\u001b[0;34m]\u001b[0m\u001b[0;34m[\u001b[0m\u001b[0melem\u001b[0m\u001b[0;34m[\u001b[0m\u001b[0my\u001b[0m\u001b[0;34m]\u001b[0m\u001b[0;34m]\u001b[0m\u001b[0;34m)\u001b[0m\u001b[0;34m\u001b[0m\u001b[0m\n\u001b[1;32m     15\u001b[0m                 \u001b[0marr3\u001b[0m\u001b[0;34m.\u001b[0m\u001b[0mappend\u001b[0m\u001b[0;34m(\u001b[0m\u001b[0mdata_dist1\u001b[0m\u001b[0;34m[\u001b[0m\u001b[0melem\u001b[0m\u001b[0;34m[\u001b[0m\u001b[0mx\u001b[0m\u001b[0;34m]\u001b[0m\u001b[0;34m]\u001b[0m\u001b[0;34m[\u001b[0m\u001b[0melem\u001b[0m\u001b[0;34m[\u001b[0m\u001b[0my\u001b[0m\u001b[0;34m]\u001b[0m\u001b[0;34m]\u001b[0m\u001b[0;34m)\u001b[0m\u001b[0;34m\u001b[0m\u001b[0m\n",
      "\u001b[0;31mIndexError\u001b[0m: only integers, slices (`:`), ellipsis (`...`), numpy.newaxis (`None`) and integer or boolean arrays are valid indices"
     ]
    }
   ],
   "source": [
    "arr1 = []\n",
    "arr2 = []\n",
    "arr3 = []\n",
    "#same_list = [[3,4,5,6], [3865,3866,3867,3868,3869]]\n",
    "\n",
    "for elem in final_graph_list:\n",
    "    x = 0\n",
    "    while x < len(elem):\n",
    "        y = x\n",
    "        while y < len(elem):\n",
    "            if x != y:\n",
    "                print str(elem[x]) + \",\" + str(elem[y])\n",
    "                arr1.append(fulldist_np[elem[x]][elem[y]])\n",
    "                arr2.append(data_dist[elem[x]][elem[y]])\n",
    "                arr3.append(data_dist1[elem[x]][elem[y]])\n",
    "            y+=1\n",
    "        x+=1"
   ]
  },
  {
   "cell_type": "code",
   "execution_count": 33,
   "metadata": {
    "collapsed": false
   },
   "outputs": [
    {
     "name": "stdout",
     "output_type": "stream",
     "text": [
      "[310, 214, 231, 266, 261, 81, 223, 202, 202, 242, 257, 245, 221, 152, 252, 250]\n",
      "[0.22500000000000001, 0.10000000000000001, 0.17499999999999999, 0.22500000000000001, 0.20000000000000001, 0.125, 0.17499999999999999, 0.14999999999999999, 0.27500000000000002, 0.17499999999999999, 0.22500000000000001, 0.25, 0.14999999999999999, 0.27500000000000002, 0.32500000000000001, 0.20000000000000001]\n"
     ]
    },
    {
     "data": {
      "image/png": "[encoded data removed]",
      "text/plain": [
       "<matplotlib.figure.Figure at 0x1387a0990>"
      ]
     },
     "metadata": {},
     "output_type": "display_data"
    }
   ],
   "source": [
    "print arr1\n",
    "print arr2\n",
    "#fulldist_np1 = fulldist_np/512.0\n",
    "\n",
    "\n",
    "#data_dist = distance.cdist(data, data, 'hamming')\n",
    "\n",
    "plt.scatter(arr1,arr2, color = 'red')\n",
    "plt.scatter(arr1,arr3)\n",
    "plt.show()\n",
    "\n",
    "\n"
   ]
  },
  {
   "cell_type": "code",
   "execution_count": 14,
   "metadata": {
    "collapsed": false
   },
   "outputs": [
    {
     "name": "stdout",
     "output_type": "stream",
     "text": [
      "13143\n",
      "[ 0.125  0.075  0.2    0.225  0.325  0.3    0.225  0.3    0.275  0.275]\n",
      "[ 0.50390625  0.484375    0.52539062  0.50195312  0.55078125  0.50390625\n",
      "  0.5703125   0.4921875   0.52539062  0.47070312]\n"
     ]
    }
   ],
   "source": [
    "#hello = np.absolute(np.subtract(fulldist_np1[0], data_dist[0]))\n",
    "print len(data_dist)\n",
    "print data_dist[0][100:110]\n",
    "print fulldist_np1[0][100:110]"
   ]
  },
  {
   "cell_type": "code",
   "execution_count": null,
   "metadata": {
    "collapsed": true
   },
   "outputs": [],
   "source": []
  }
 ],
 "metadata": {
  "anaconda-cloud": {},
  "kernelspec": {
   "display_name": "Python [Root]",
   "language": "python",
   "name": "Python [Root]"
  },
  "language_info": {
   "codemirror_mode": {
    "name": "ipython",
    "version": 2
   },
   "file_extension": ".py",
   "mimetype": "text/x-python",
   "name": "python",
   "nbconvert_exporter": "python",
   "pygments_lexer": "ipython2",
   "version": "2.7.12"
  }
 },
 "nbformat": 4,
 "nbformat_minor": 0
}
