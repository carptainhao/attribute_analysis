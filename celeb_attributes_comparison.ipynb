{
 "cells": [
  {
   "cell_type": "markdown",
   "metadata": {},
   "source": [
    "# Parsing Celeb A Dataset and Attributes"
   ]
  },
  {
   "cell_type": "code",
   "execution_count": 5,
   "metadata": {
    "collapsed": false
   },
   "outputs": [],
   "source": [
    "import scipy.io as sio\n",
    "import sys\n",
    "from scipy.spatial import distance\n",
    "import matplotlib.pyplot as plt\n",
    "%matplotlib inline\n",
    "\n",
    "\n",
    "# Parses from a file that gives mapping from file names to labels\n",
    "def parse_celeba_labels(path):\n",
    "\tf = open(path, 'r')\n",
    "\tcount = 0\n",
    "\tfile_to_label = {}\n",
    "\tfor line in f:\n",
    "\t\tarr = line.split(\" \")\n",
    "\t\tif len(arr) == 2:\n",
    "\t\t\tfile_to_label[arr[0]] = int(arr[1].split(\"\\n\")[0])\n",
    "\treturn file_to_label\n",
    "\n",
    "# Returns data and corresponding labels\n",
    "def get_celeb_a_dataset(path_data, path_labels):\n",
    "\t# Dictionary mapping file names to labels\n",
    "\tfile_to_label = parse_celeba_labels(path_labels)\n",
    "\tf = open(path_data, 'r')\n",
    "\n",
    "\t# Skip first two lines of the file\n",
    "\tf.readline()\n",
    "\tf.readline()\n",
    "\n",
    "\tcount = 0\n",
    "\tlabels = []\n",
    "\tdata = []\n",
    "\tfor line in f:\n",
    "\t\ttemp = []\n",
    "\t\tarr = line.split()\n",
    "\t\tfor elem in arr[1:]:\n",
    "\t\t\tif int(elem) < 0:\n",
    "\t\t\t\ttemp.append(0)\n",
    "\t\t\telse:\n",
    "\t\t\t\ttemp.append(1)\n",
    "\t\tdata.append(temp)\n",
    "\t\tlabels.append(file_to_label[arr[0]])\n",
    "\treturn data, labels\n",
    "\n",
    "\n",
    "# Testing\n",
    "data, labels = get_celeb_a_dataset(\"celeb_a_data.txt\", \"celeb_a_labels.txt\")"
   ]
  },
  {
   "cell_type": "markdown",
   "metadata": {},
   "source": [
    "# For images of the same people, what attribtues stay the same"
   ]
  },
  {
   "cell_type": "code",
   "execution_count": 4,
   "metadata": {
    "collapsed": false
   },
   "outputs": [
    {
     "name": "stdout",
     "output_type": "stream",
     "text": [
      "hi\n"
     ]
    }
   ],
   "source": [
    "dic = {}\n",
    "count = 0\n",
    "for elem in labels:\n",
    "    if elem in dic:\n",
    "        dic[elem].append(count)\n",
    "    else:\n",
    "        dic[elem] = [count]\n",
    "    count += 1\n",
    "\n",
    "\n",
    "\n",
    "def calculate_distance(i,j):\n",
    "    return distance.hamming(data[i], data[j])\n",
    "\n",
    "same_distance = []\n",
    "for same in dic:\n",
    "    i = 0\n",
    "    while i < len(dic[same]):\n",
    "        j = i + 1\n",
    "        while j < len(dic[same]):\n",
    "            same_distance.append(calculate_distance(dic[same][i], dic[same][j]))\n",
    "            j += 1\n",
    "        i += 1\n"
   ]
  },
  {
   "cell_type": "code",
   "execution_count": 10,
   "metadata": {
    "collapsed": false
   },
   "outputs": [
    {
     "name": "stdout",
     "output_type": "stream",
     "text": [
      "10177\n"
     ]
    }
   ],
   "source": [
    "print same"
   ]
  },
  {
   "cell_type": "markdown",
   "metadata": {},
   "source": [
    "## Figuring which attribtues are represented in the Celeb A dataset the best"
   ]
  },
  {
   "cell_type": "code",
   "execution_count": 74,
   "metadata": {
    "collapsed": false
   },
   "outputs": [],
   "source": [
    "count = 0\n",
    "total_dic = {}\n",
    "\n",
    "counter = 1\n",
    "while counter <= len(dic.keys()):\n",
    "    count_dic = {}\n",
    "    for features in dic[counter]:\n",
    "        count = 0\n",
    "        for elem in data[features]:\n",
    "            if count not in count_dic:\n",
    "                count_dic[count] = 0\n",
    "            if elem == 1:\n",
    "                count_dic[count] += 1\n",
    "            count += 1\n",
    "    for elem in count_dic:\n",
    "        x = count_dic[elem] / float(len(dic[counter]))\n",
    "        if x < 0.5:\n",
    "            x = 1 - x\n",
    "        count_dic[elem] = x\n",
    "\n",
    "    count = 0\n",
    "    while count < 40:\n",
    "        if count not in total_dic:\n",
    "            total_dic[count] = 0\n",
    "        total_dic[count] += count_dic[count]\n",
    "        count += 1\n",
    "    counter += 1\n",
    "\n",
    "for elem in total_dic:\n",
    "    total_dic[elem] = total_dic[elem] / len(dic.keys())    "
   ]
  },
  {
   "cell_type": "code",
   "execution_count": 75,
   "metadata": {
    "collapsed": false
   },
   "outputs": [
    {
     "name": "stdout",
     "output_type": "stream",
     "text": [
      "{0: 0.9348347587950239, 1: 0.869007869765759, 2: 0.8354652834868082, 3: 0.8581950538756407, 4: 0.986059076456728, 5: 0.9045422890897654, 6: 0.9336896105649122, 7: 0.8959093934647407, 8: 0.8700929867114432, 9: 0.9287426721064912, 10: 0.9433563677568222, 11: 0.8611586391781292, 12: 0.9186714834253175, 13: 0.9582329185596218, 14: 0.9599520846404572, 15: 0.9573592857350347, 16: 0.9610556333857341, 17: 0.9709759598476041, 18: 0.8801785695483884, 19: 0.7665188507001536, 20: 0.9944689958413266, 21: 0.7220066687987243, 22: 0.9741617759525206, 23: 0.9022737690937059, 24: 0.9347183646032767, 25: 0.8322913926041953, 26: 0.9605982998073318, 27: 0.8506253338830352, 28: 0.9390041555186837, 29: 0.9480387745715092, 30: 0.9628042405511139, 31: 0.739242954607835, 32: 0.8558985017389639, 33: 0.826205214392711, 34: 0.8705936366456539, 35: 0.9587225474676413, 36: 0.9146483840447373, 37: 0.9029961094789486, 38: 0.9368350646076894, 39: 0.9621532044859762}\n"
     ]
    }
   ],
   "source": [
    "print total_dic"
   ]
  },
  {
   "cell_type": "code",
   "execution_count": 76,
   "metadata": {
    "collapsed": false
   },
   "outputs": [],
   "source": [
    "total_arr = []\n",
    "count = 0\n",
    "while count <= 39:\n",
    "    total_arr.append(total_dic[count])\n",
    "    count += 1"
   ]
  },
  {
   "cell_type": "code",
   "execution_count": 77,
   "metadata": {
    "collapsed": false
   },
   "outputs": [],
   "source": [
    "N = 40\n"
   ]
  },
  {
   "cell_type": "code",
   "execution_count": 78,
   "metadata": {
    "collapsed": false
   },
   "outputs": [],
   "source": [
    "import numpy as np\n",
    "ind = np.arange(N)  # the x locations for the groups\n",
    "width = 1       # the width of the bars\n",
    "\n"
   ]
  },
  {
   "cell_type": "code",
   "execution_count": 79,
   "metadata": {
    "collapsed": false
   },
   "outputs": [
    {
     "data": {
      "image/png": "[encoded data removed]",
      "text/plain": [
       "<matplotlib.figure.Figure at 0x7f79e7e39490>"
      ]
     },
     "metadata": {},
     "output_type": "display_data"
    }
   ],
   "source": [
    "fig, ax = plt.subplots()\n",
    "rects1 = ax.bar(ind, total_arr, width, color='r')"
   ]
  },
  {
   "cell_type": "code",
   "execution_count": 82,
   "metadata": {
    "collapsed": false,
    "scrolled": true
   },
   "outputs": [
    {
     "name": "stdout",
     "output_type": "stream",
     "text": [
      "20  0.994468995841   Male\n",
      "4  0.986059076457   Bald\n",
      "22  0.974161775953   Mustache\n",
      "17  0.970975959848   Gray_Hair\n",
      "30  0.962804240551   Sideburns\n",
      "39  0.962153204486   Young\n",
      "16  0.961055633386   Goatee\n",
      "26  0.960598299807   Pale_Skin\n",
      "14  0.95995208464   Double_Chin\n",
      "35  0.958722547468   Wearing_Hat\n",
      "13  0.95823291856   Chubby\n",
      "15  0.957359285735   Eyeglasses\n",
      "29  0.948038774572   Rosy_Cheeks\n",
      "10  0.943356367757   Blurry\n",
      "28  0.939004155519   Receding_Hairline\n",
      "38  0.936835064608   Wearing_Necktie\n",
      "0  0.934834758795   5_o_Clock_Shadow\n",
      "24  0.934718364603   No_Beard\n",
      "6  0.933689610565   Big_Lips\n",
      "9  0.928742672106   Blond_Hair\n",
      "12  0.918671483425   Bushy_Eyebrows\n",
      "36  0.914648384045   Wearing_Lipstick\n",
      "5  0.90454228909   Bangs\n",
      "37  0.902996109479   Wearing_Necklace\n",
      "23  0.902273769094   Narrow_Eyes\n",
      "7  0.895909393465   Big_Nose\n",
      "18  0.880178569548   Heavy_Makeup\n",
      "34  0.870593636646   Wearing_Earrings\n",
      "8  0.870092986711   Black_Hair\n",
      "1  0.869007869766   Arched_Eyebrows\n",
      "11  0.861158639178   Brown_Hair\n",
      "3  0.858195053876   Bags_Under_Eyes\n",
      "32  0.855898501739   Straight_Hair\n",
      "27  0.850625333883   Pointy_Nose\n",
      "2  0.835465283487   Attractive\n",
      "25  0.832291392604   Oval_Face\n",
      "33  0.826205214393   Wavy_Hair\n",
      "19  0.7665188507   High_Cheekbones\n",
      "31  0.739242954608   Smiling\n",
      "21  0.722006668799   Mouth_Slightly_Open\n"
     ]
    }
   ],
   "source": [
    "x = sorted(total_dic, key=total_dic.get, reverse=True)\n",
    "for elem in x:\n",
    "    print str(elem) + '  ' + str(total_dic[elem]) + '   ' + str(hi[elem])"
   ]
  },
  {
   "cell_type": "code",
   "execution_count": 83,
   "metadata": {
    "collapsed": false
   },
   "outputs": [],
   "source": [
    "# Returns data and corresponding labels\n",
    "def get_celeb_a_dataset(path_data, path_labels):\n",
    "    # Dictionary mapping file names to labels\n",
    "    file_to_label = parse_celeba_labels(path_labels)\n",
    "    f = open(path_data, 'r')\n",
    "\n",
    "    # Skip first two lines of the file\n",
    "    f.readline()\n",
    "    return f.readline()\n",
    "\n",
    "# Testing\n",
    "names = get_celeb_a_dataset(\"celeb_a_data.txt\", \"celeb_a_labels.txt\")"
   ]
  },
  {
   "cell_type": "code",
   "execution_count": 61,
   "metadata": {
    "collapsed": false
   },
   "outputs": [
    {
     "name": "stdout",
     "output_type": "stream",
     "text": [
      "40\n"
     ]
    }
   ],
   "source": [
    "\n",
    "print len(names.split())"
   ]
  },
  {
   "cell_type": "markdown",
   "metadata": {
    "collapsed": true
   },
   "source": [
    "# Analysis"
   ]
  },
  {
   "cell_type": "markdown",
   "metadata": {},
   "source": [
    "Most of the identity related attributes have better correlation than the irrelevant attributes that can change from picture to picture. (e.g. Smiling, Mouth_slightly_open)"
   ]
  },
  {
   "cell_type": "code",
   "execution_count": null,
   "metadata": {
    "collapsed": true
   },
   "outputs": [],
   "source": []
  }
 ],
 "metadata": {
  "anaconda-cloud": {},
  "kernelspec": {
   "display_name": "Python [Root]",
   "language": "python",
   "name": "Python [Root]"
  },
  "language_info": {
   "codemirror_mode": {
    "name": "ipython",
    "version": 2
   },
   "file_extension": ".py",
   "mimetype": "text/x-python",
   "name": "python",
   "nbconvert_exporter": "python",
   "pygments_lexer": "ipython2",
   "version": "2.7.12"
  }
 },
 "nbformat": 4,
 "nbformat_minor": 0
}
