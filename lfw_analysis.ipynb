{
 "cells": [
  {
   "cell_type": "markdown",
   "metadata": {},
   "source": [
    "# Setting up environment"
   ]
  },
  {
   "cell_type": "code",
   "execution_count": 1,
   "metadata": {
    "collapsed": false
   },
   "outputs": [],
   "source": [
    "import pickle\n",
    "import numpy as np\n",
    "import scipy\n",
    "import scipy.io as sio\n",
    "import sys\n",
    "from scipy.spatial import distance\n",
    "sys.path.append('..')\n",
    "import random"
   ]
  },
  {
   "cell_type": "code",
   "execution_count": 2,
   "metadata": {
    "collapsed": true
   },
   "outputs": [],
   "source": [
    "data_prefix = ''"
   ]
  },
  {
   "cell_type": "markdown",
   "metadata": {},
   "source": [
    "# Getting the Data from a Predefined Matrix [Scraped a while ago by Svebor]"
   ]
  },
  {
   "cell_type": "markdown",
   "metadata": {},
   "source": [
    "Labels is a list showing which person corresponds to which image [Note: there are some people that show up multiple times]"
   ]
  },
  {
   "cell_type": "code",
   "execution_count": 3,
   "metadata": {
    "collapsed": false
   },
   "outputs": [
    {
     "name": "stdout",
     "output_type": "stream",
     "text": [
      "[   0    1    2 ..., 5746 5747 5748]\n"
     ]
    }
   ],
   "source": [
    "# how to load ground truth labels\n",
    "gt_name = 'LFW_all_subjects_id.mat'\n",
    "gt_file_full = data_prefix + gt_name\n",
    "gt_mat = sio.loadmat(gt_file_full)\n",
    "labels = np.squeeze(gt_mat['all_subjects_ids'])\n",
    "print labels"
   ]
  },
  {
   "cell_type": "markdown",
   "metadata": {},
   "source": [
    "There are 5748 People in this LFW dataset"
   ]
  },
  {
   "cell_type": "markdown",
   "metadata": {},
   "source": [
    "# Loading 512 bit long hashcodes that were generated from the hash layer of the neural network"
   ]
  },
  {
   "cell_type": "code",
   "execution_count": 4,
   "metadata": {
    "collapsed": false
   },
   "outputs": [],
   "source": [
    "# how to load hashcodes\n",
    "hashcodes_name = 'LFW_hash512_randomcrop_prelu_newproto_rgb_notV7.3.mat'\n",
    "hashcodes_file_full = data_prefix + hashcodes_name\n",
    "hashcodes_mat = sio.loadmat(hashcodes_file_full)\n",
    "#print hashcodes_mat['templates']\n",
    "all_templates = hashcodes_mat['templates']\n",
    "# all templates contains: subject_name, subject_id, file, features (actually hashcodes in this case)\n",
    "nb_samples = hashcodes_mat['templates'].shape[1]\n",
    "all_samples_tmp = []\n",
    "all_samples_files = []\n",
    "for i in range(nb_samples):\n",
    "    all_samples_tmp.append(np.squeeze(all_templates[0,i][3]))\n",
    "    all_samples_files.append(str(np.squeeze(all_templates[0,i][2])))\n",
    "all_samples = np.asarray(all_samples_tmp)"
   ]
  },
  {
   "cell_type": "code",
   "execution_count": 5,
   "metadata": {
    "collapsed": false
   },
   "outputs": [
    {
     "name": "stdout",
     "output_type": "stream",
     "text": [
      "['AJ_Cook_0001.jpg', 'AJ_Lamas_0001.jpg', 'Aaron_Eckhart_0001.jpg', 'Aaron_Guiel_0001.jpg', 'Aaron_Patterson_0001.jpg', 'Aaron_Peirsol_0001.jpg', 'Aaron_Peirsol_0002.jpg', 'Aaron_Peirsol_0003.jpg', 'Aaron_Peirsol_0004.jpg', 'Aaron_Pena_0001.jpg']\n"
     ]
    }
   ],
   "source": [
    "print all_samples_files[:10]"
   ]
  },
  {
   "cell_type": "code",
   "execution_count": 6,
   "metadata": {
    "collapsed": false
   },
   "outputs": [
    {
     "name": "stdout",
     "output_type": "stream",
     "text": [
      "[[  9.99719501e-01   9.99999583e-01   9.92673457e-01 ...,   1.00000000e+00\n",
      "    1.00000000e+00   1.06802311e-07]\n",
      " [  6.81201158e-08   3.98614723e-03   1.00000000e+00 ...,   9.99999821e-01\n",
      "    2.63930566e-12   7.86280156e-12]]\n",
      "[[ True  True  True ...,  True  True False]\n",
      " [False False  True ...,  True False False]]\n",
      "(13233, 512)\n"
     ]
    }
   ],
   "source": [
    "print all_samples[:2,:]\n",
    "# hash codes should actually be binarized.\n",
    "# Check what is the best way to represent binary codes in python\n",
    "print (all_samples>0.5)[:2,:]\n",
    "print all_samples.shape"
   ]
  },
  {
   "cell_type": "markdown",
   "metadata": {},
   "source": [
    "# Getting distances between each hashcode"
   ]
  },
  {
   "cell_type": "code",
   "execution_count": 7,
   "metadata": {
    "collapsed": false
   },
   "outputs": [],
   "source": [
    "# how to load precomputed distance matrix\n",
    "fulldist_name = 'LFW_full_hamming_dist.mat'\n",
    "fulldist_file = data_prefix + fulldist_name\n",
    "fulldist = sio.loadmat(fulldist_file)"
   ]
  },
  {
   "cell_type": "code",
   "execution_count": 8,
   "metadata": {
    "collapsed": false
   },
   "outputs": [],
   "source": [
    "fulldist_np = fulldist['full_hamming_dist']"
   ]
  },
  {
   "cell_type": "code",
   "execution_count": 9,
   "metadata": {
    "collapsed": false
   },
   "outputs": [
    {
     "data": {
      "text/plain": [
       "(13233, 13233)"
      ]
     },
     "execution_count": 9,
     "metadata": {},
     "output_type": "execute_result"
    }
   ],
   "source": [
    "fulldist_np.shape"
   ]
  },
  {
   "cell_type": "code",
   "execution_count": 46,
   "metadata": {
    "collapsed": false
   },
   "outputs": [
    {
     "name": "stdout",
     "output_type": "stream",
     "text": [
      "109\n"
     ]
    }
   ],
   "source": [
    "print fulldist_np[101][102]"
   ]
  },
  {
   "cell_type": "code",
   "execution_count": 16,
   "metadata": {
    "collapsed": false
   },
   "outputs": [
    {
     "name": "stdout",
     "output_type": "stream",
     "text": [
      "175099056\n",
      "13233\n",
      "175099056\n"
     ]
    }
   ],
   "source": [
    "print np.count_nonzero(fulldist_np)\n",
    "print len(fulldist_np)\n",
    "print 13233 * 13233 - 13233"
   ]
  },
  {
   "cell_type": "markdown",
   "metadata": {
    "collapsed": true
   },
   "source": [
    "# Scraping LFW dataset from CAVE"
   ]
  },
  {
   "cell_type": "code",
   "execution_count": 17,
   "metadata": {
    "collapsed": false
   },
   "outputs": [
    {
     "name": "stdout",
     "output_type": "stream",
     "text": [
      "1670\n",
      "237856\n"
     ]
    }
   ],
   "source": [
    "\n",
    "f = open('lfw_attributes.txt', 'r')\n",
    "\n",
    "f.readline() # Header\n",
    "f.readline() # Attributes List\n",
    "\n",
    "counter = 0\n",
    "prev = ''\n",
    "same = []\n",
    "same_arr = []\n",
    "\n",
    "for line in f:\n",
    "\n",
    "\n",
    "    line1 = line.split(\"\\n\")[0]\n",
    "    arr = line1.split()\n",
    "\n",
    "    name = arr[0]\n",
    "    count = 1\n",
    "    while count < len(arr) - 73 - 1:\n",
    "        name = name + '_' + arr[count]\n",
    "        count += 1\n",
    "\n",
    "    if name == prev:\n",
    "        same_arr.append(counter)\n",
    "    else:\n",
    "        if len(same_arr) > 1:\n",
    "            same.append(same_arr)\n",
    "        prev = name\n",
    "        same_arr = [counter]\n",
    "    counter += 1\n",
    "if len(same_arr) > 1:\n",
    "    same.append(same_arr)\n",
    "\n",
    "print len(same)\n",
    "\n",
    "tuples = []\n",
    "for person in same:\n",
    "    i = 0\n",
    "    while i < len(person):\n",
    "        j = i + 1\n",
    "        while j < len(person):\n",
    "            tuples.append((person[i], person[j]))\n",
    "            j += 1\n",
    "        i += 1\n",
    "print len(tuples)"
   ]
  },
  {
   "cell_type": "code",
   "execution_count": 18,
   "metadata": {
    "collapsed": true
   },
   "outputs": [],
   "source": [
    "# Threshold for determining whether the attribute value is 0 or 1\n",
    "threshold = 0.0"
   ]
  },
  {
   "cell_type": "code",
   "execution_count": 19,
   "metadata": {
    "collapsed": false
   },
   "outputs": [],
   "source": [
    "names = []\n",
    "\n",
    "def calculate_data(attr_set):\n",
    "    attribute_number = len(attr_set)\n",
    "\n",
    "    f = open('lfw_attributes.txt', 'r')\n",
    "\n",
    "    f.readline() # Header\n",
    "    f.readline() # Attributes List\n",
    "\n",
    "    labels = []\n",
    "    data = []\n",
    "    counter = 0\n",
    "\n",
    "    for line in f:\n",
    "\n",
    "        line1 = line.split(\"\\n\")[0]\n",
    "        arr = line1.split()\n",
    "\n",
    "        name = arr[0]\n",
    "        count = 1\n",
    "        while count < len(arr) - 73 - 1:\n",
    "            name = name + '_' + arr[count]\n",
    "            count += 1\n",
    "        names.append(name)\n",
    "        labels.append(name+'_'+arr[count].zfill(4) + '.jpg')\n",
    "        f_arr = arr[count + 1: len(arr)]\n",
    "\n",
    "        features = []\n",
    "        attribute_number = 0\n",
    "        for elem in f_arr:\n",
    "            if attribute_number in attr_set:\n",
    "                if float(elem) < 0:\n",
    "                    features.append(0)\n",
    "                else:\n",
    "                    features.append(1)\n",
    "            attribute_number+=1\n",
    "        data.append(features)\n",
    "\n",
    "            \n",
    "    return np.array(data), labels\n",
    "\n",
    "\n",
    "\n",
    "sex = [0]\n",
    "ethnicity = [1,2,3,57]\n",
    "age = [4,5,6,7,8]\n",
    "hair_color = [9,10,11,12,58]\n",
    "glasses = [13,14]\n",
    "facial_hair = [16,45,46]\n",
    "hair_style = [25,26,27,28,29,30]\n",
    "eyebrows = [34,35]\n",
    "eye = [36,69]\n",
    "facial_structure = [19,38,39,40,47,48,50,51,52,68]\n",
    "\n",
    "identity = set(sex+ethnicity+age+hair_color+glasses+facial_hair+hair_style+eyebrows+eye+facial_structure)\n",
    "\n",
    "picture_quality = [20,21,22,23,53,54]\n",
    "click_specifics = [31,32,33,37,41,42,43,44]\n",
    "makeup = [59,60,61,62,63,64,65,66,67]\n",
    "attractiveness = [55,56]\n",
    "emotions = [17,18]\n",
    "accessories = [15,24,49,70,71,72]\n",
    "\n",
    "irrelevant = set(picture_quality+click_specifics+makeup+attractiveness+emotions+accessories)\n",
    "\n",
    "everything = irrelevant.union(identity)\n",
    "\n",
    "\n",
    "data, labels = calculate_data(everything)"
   ]
  },
  {
   "cell_type": "code",
   "execution_count": 20,
   "metadata": {
    "collapsed": false
   },
   "outputs": [
    {
     "data": {
      "text/plain": [
       "13143"
      ]
     },
     "execution_count": 20,
     "metadata": {},
     "output_type": "execute_result"
    }
   ],
   "source": [
    "len(data)"
   ]
  },
  {
   "cell_type": "code",
   "execution_count": 21,
   "metadata": {
    "collapsed": false
   },
   "outputs": [
    {
     "name": "stdout",
     "output_type": "stream",
     "text": [
      "5721\n"
     ]
    }
   ],
   "source": [
    "hi = set(names)\n",
    "print len(hi)"
   ]
  },
  {
   "cell_type": "code",
   "execution_count": 22,
   "metadata": {
    "collapsed": false
   },
   "outputs": [
    {
     "data": {
      "text/plain": [
       "'Eminem_0001.jpg'"
      ]
     },
     "execution_count": 22,
     "metadata": {},
     "output_type": "execute_result"
    }
   ],
   "source": [
    "labels[3400]"
   ]
  },
  {
   "cell_type": "markdown",
   "metadata": {},
   "source": [
    "# Figuring out which images are not present in both datasets"
   ]
  },
  {
   "cell_type": "code",
   "execution_count": 23,
   "metadata": {
    "collapsed": false
   },
   "outputs": [
    {
     "name": "stdout",
     "output_type": "stream",
     "text": [
      "90\n"
     ]
    }
   ],
   "source": [
    "dictionary = {}\n",
    "for elem in labels:\n",
    "    dictionary[elem] = True\n",
    "count = 0\n",
    "colDel = []\n",
    "for elem in all_samples_files:\n",
    "    if elem not in dictionary:\n",
    "        colDel.append(count)\n",
    "    count += 1\n",
    "\n",
    "print len(colDel)"
   ]
  },
  {
   "cell_type": "markdown",
   "metadata": {},
   "source": [
    "## Deleting the respective columns and rows"
   ]
  },
  {
   "cell_type": "code",
   "execution_count": 24,
   "metadata": {
    "collapsed": false
   },
   "outputs": [],
   "source": [
    "count = len(colDel) - 1\n",
    "hash_np_revised = fulldist_np\n",
    "while count >= 0:\n",
    "    temp = np.delete(hash_np_revised, colDel[count], 0)\n",
    "    hash_np_revised = np.delete(temp, colDel[count], 1)\n",
    "    count = count - 1\n",
    "    "
   ]
  },
  {
   "cell_type": "code",
   "execution_count": 25,
   "metadata": {
    "collapsed": false
   },
   "outputs": [
    {
     "name": "stdout",
     "output_type": "stream",
     "text": [
      "175099056\n",
      "13233\n",
      "175099056\n"
     ]
    }
   ],
   "source": [
    "print np.count_nonzero(fulldist_np)\n",
    "print len(fulldist_np)\n",
    "print 13233 * 13233 - 13233"
   ]
  },
  {
   "cell_type": "code",
   "execution_count": 28,
   "metadata": {
    "collapsed": false
   },
   "outputs": [
    {
     "name": "stdout",
     "output_type": "stream",
     "text": [
      "172725306\n",
      "13143\n",
      "172725306\n"
     ]
    }
   ],
   "source": [
    "print np.count_nonzero(hash_np_revised)\n",
    "print len(hash_np_revised)\n",
    "print 13143 * 13143 - 13143"
   ]
  },
  {
   "cell_type": "code",
   "execution_count": 43,
   "metadata": {
    "collapsed": false
   },
   "outputs": [],
   "source": [
    "hi = np.nonzero(hash_np_revised)"
   ]
  },
  {
   "cell_type": "code",
   "execution_count": 45,
   "metadata": {
    "collapsed": false
   },
   "outputs": [
    {
     "name": "stdout",
     "output_type": "stream",
     "text": [
      "[[  0 216 257 ..., 246 275 262]\n",
      " [216   0 273 ..., 244 287 250]\n",
      " [257 273   0 ..., 287 260 215]\n",
      " ..., \n",
      " [246 244 287 ...,   0 241 244]\n",
      " [275 287 260 ..., 241   0 239]\n",
      " [262 250 215 ..., 244 239   0]]\n"
     ]
    }
   ],
   "source": [
    "print hash_np_revised"
   ]
  },
  {
   "cell_type": "code",
   "execution_count": 31,
   "metadata": {
    "collapsed": false
   },
   "outputs": [],
   "source": [
    "i = 0\n",
    "while i < 13143:\n",
    "    if hash_np_revised[i][i] != 0:\n",
    "        print 'yo'\n",
    "    i += 1"
   ]
  },
  {
   "cell_type": "code",
   "execution_count": 32,
   "metadata": {
    "collapsed": false
   },
   "outputs": [
    {
     "name": "stdout",
     "output_type": "stream",
     "text": [
      "(13143, 13143)\n",
      "(13233, 13233)\n"
     ]
    }
   ],
   "source": [
    "print hash_np_revised.shape\n",
    "print fulldist_np.shape"
   ]
  },
  {
   "cell_type": "markdown",
   "metadata": {},
   "source": [
    "## Normalizing Data"
   ]
  },
  {
   "cell_type": "code",
   "execution_count": 33,
   "metadata": {
    "collapsed": true
   },
   "outputs": [],
   "source": [
    "normalized_hash_dist= hash_np_revised/512.0"
   ]
  },
  {
   "cell_type": "code",
   "execution_count": 50,
   "metadata": {
    "collapsed": false
   },
   "outputs": [
    {
     "name": "stdout",
     "output_type": "stream",
     "text": [
      "0.060546875\n"
     ]
    }
   ],
   "source": [
    "print np.min(normalized_hash_dist[np.nonzero(normalized_hash_dist)])"
   ]
  },
  {
   "cell_type": "code",
   "execution_count": 52,
   "metadata": {
    "collapsed": false
   },
   "outputs": [
    {
     "name": "stdout",
     "output_type": "stream",
     "text": [
      "0.755859375\n"
     ]
    }
   ],
   "source": [
    "print np.max(normalized_hash_dist[np.nonzero(normalized_hash_dist)])"
   ]
  },
  {
   "cell_type": "code",
   "execution_count": 37,
   "metadata": {
    "collapsed": false
   },
   "outputs": [
    {
     "name": "stdout",
     "output_type": "stream",
     "text": [
      "172725306\n",
      "13143\n",
      "172725306\n"
     ]
    }
   ],
   "source": [
    "print np.count_nonzero(normalized_hash_dist)\n",
    "print len(normalized_hash_dist)\n",
    "print 13143 * 13143 - 13143\n",
    "\n",
    "i = 0\n",
    "while i < 13143:\n",
    "    if normalized_hash_dist[i][i] != 0:\n",
    "        print 'yo'\n",
    "    i += 1"
   ]
  },
  {
   "cell_type": "code",
   "execution_count": 38,
   "metadata": {
    "collapsed": false
   },
   "outputs": [
    {
     "name": "stdout",
     "output_type": "stream",
     "text": [
      "(13143, 73)\n",
      "[1 0 1 0 0 0 0 0 0 0 0 1 0 1 0 0 0 0 1 0 0 0 0 1 1 1 0 0 0 0 0 1 0 0 0 0 1\n",
      " 1 1 1 0 1 0 0 1 1 0 1 0 0 1 0 0 1 1 1 0 0 0 0 0 0 0 1 1 0 0 0 0 0 0 1 0]\n"
     ]
    }
   ],
   "source": [
    "print data.shape\n",
    "print data[0]"
   ]
  },
  {
   "cell_type": "code",
   "execution_count": 39,
   "metadata": {
    "collapsed": false
   },
   "outputs": [],
   "source": [
    "data_dist = distance.cdist(data, data, 'hamming')"
   ]
  },
  {
   "cell_type": "code",
   "execution_count": 40,
   "metadata": {
    "collapsed": false
   },
   "outputs": [
    {
     "name": "stdout",
     "output_type": "stream",
     "text": [
      "172725298\n",
      "13143\n",
      "172725306\n"
     ]
    }
   ],
   "source": [
    "print np.count_nonzero(data_dist)\n",
    "print len(data_dist)\n",
    "print 13143 * 13143 - 13143"
   ]
  },
  {
   "cell_type": "code",
   "execution_count": 61,
   "metadata": {
    "collapsed": false
   },
   "outputs": [],
   "source": [
    "def get_average(data):\n",
    "    data_dist = distance.cdist(data, data, 'hamming')\n",
    "    return find_0_1(normalized_hash_dist, data_dist)\n"
   ]
  },
  {
   "cell_type": "code",
   "execution_count": 24,
   "metadata": {
    "collapsed": false
   },
   "outputs": [],
   "source": [
    "total = np.sum(np.absolute(np.subtract(normalized_hash_dist, data_dist)))"
   ]
  },
  {
   "cell_type": "markdown",
   "metadata": {
    "collapsed": false
   },
   "source": [
    "from scipy.spatial import distance\n",
    "hash_dist = distance.cdist(all_samples, all_samples, 'euclidean')"
   ]
  },
  {
   "cell_type": "code",
   "execution_count": 25,
   "metadata": {
    "collapsed": true
   },
   "outputs": [],
   "source": [
    "average = total / (13143*13143 - 13143)"
   ]
  },
  {
   "cell_type": "code",
   "execution_count": 26,
   "metadata": {
    "collapsed": false
   },
   "outputs": [
    {
     "data": {
      "text/plain": [
       "0.14867188197040984"
      ]
     },
     "execution_count": 26,
     "metadata": {},
     "output_type": "execute_result"
    }
   ],
   "source": [
    "average"
   ]
  },
  {
   "cell_type": "code",
   "execution_count": 56,
   "metadata": {
    "collapsed": false
   },
   "outputs": [],
   "source": [
    "def find_0_1(arr1, arr2):\n",
    "    total = np.sum(np.absolute(np.subtract(arr1, arr2)))\n",
    "    return (total / (13143*13143 - 13143))\n"
   ]
  },
  {
   "cell_type": "code",
   "execution_count": 57,
   "metadata": {
    "collapsed": false
   },
   "outputs": [
    {
     "name": "stdout",
     "output_type": "stream",
     "text": [
      "0.14867188197\n"
     ]
    }
   ],
   "source": [
    "print find_0_1(normalized_hash_dist, data_dist)"
   ]
  },
  {
   "cell_type": "markdown",
   "metadata": {},
   "source": [
    "# Attributes"
   ]
  },
  {
   "cell_type": "code",
   "execution_count": 59,
   "metadata": {
    "collapsed": false
   },
   "outputs": [],
   "source": [
    "#sex, ethnicity, age, facial_structure, eye\n",
    "\n",
    "sex = [0]\n",
    "ethnicity = [1,2,3,57]\n",
    "age = [4,5,6,7,8]\n",
    "hair_color = [9,10,11,12,58]\n",
    "glasses = [13,14]\n",
    "facial_hair = [16,45,46]\n",
    "hair_style = [25,26,27,28,29,30]\n",
    "eyebrows = [34,35]\n",
    "eye = [36,69]\n",
    "facial_structure = [19,38,39,40,47,48,50,51,52,68]\n",
    "\n",
    "identity = set(sex+ethnicity+age+hair_color+glasses+facial_hair+hair_style+eyebrows+eye+facial_structure)\n",
    "\n",
    "picture_quality = [20,21,22,23,53,54]\n",
    "click_specifics = [31,32,33,37,41,42,43,44]\n",
    "makeup = [59,60,61,62,63,64,65,66,67]\n",
    "attractiveness = [55,56]\n",
    "emotions = [17,18]\n",
    "accessories = [15,24,49,70,71,72]\n",
    "\n",
    "irrelevant = set(picture_quality+click_specifics+makeup+attractiveness+emotions+accessories)\n",
    "\n",
    "everything = irrelevant.union(identity)\n"
   ]
  },
  {
   "cell_type": "code",
   "execution_count": 62,
   "metadata": {
    "collapsed": false
   },
   "outputs": [
    {
     "name": "stdout",
     "output_type": "stream",
     "text": [
      "0.159514803324\n"
     ]
    }
   ],
   "source": [
    "print get_average(calculate_data(identity)[0])\n",
    "    "
   ]
  },
  {
   "cell_type": "code",
   "execution_count": 63,
   "metadata": {
    "collapsed": false
   },
   "outputs": [
    {
     "name": "stdout",
     "output_type": "stream",
     "text": [
      "0.149865616351\n",
      "0.14867188197\n"
     ]
    }
   ],
   "source": [
    "print get_average(calculate_data(irrelevant)[0])\n",
    "print get_average(calculate_data(everything)[0])"
   ]
  },
  {
   "cell_type": "code",
   "execution_count": 64,
   "metadata": {
    "collapsed": true
   },
   "outputs": [],
   "source": [
    "import matplotlib.pyplot as plt\n",
    "%matplotlib inline"
   ]
  },
  {
   "cell_type": "code",
   "execution_count": 65,
   "metadata": {
    "collapsed": false
   },
   "outputs": [],
   "source": [
    "\n",
    "tuples_random = []\n",
    "i = 0\n",
    "while i < 100:\n",
    "    x = random.randrange(0,len(tuples) - 1)\n",
    "    tuples_random.append(tuples[i])\n",
    "    i+= 1\n"
   ]
  },
  {
   "cell_type": "code",
   "execution_count": 69,
   "metadata": {
    "collapsed": true
   },
   "outputs": [],
   "source": [
    "def plot_b(data1):\n",
    "    count = 0\n",
    "    inputs = []\n",
    "\n",
    "    data_dist1 = distance.cdist(data1, data1, 'hamming')\n",
    "    \n",
    "    x = []\n",
    "    y = []\n",
    "    num,x_a, y_a = find_0_1(normalized_hash_dist, data_dist1)\n",
    "    \n",
    "    for elem in tuples_random:\n",
    "        x.append(x_a[elem[0]][elem[1]])\n",
    "        y.append(y_a[elem[0]][elem[1]])\n",
    "    plt.scatter(x,y, color = 'blue')\n",
    "    plt.show()\n"
   ]
  },
  {
   "cell_type": "code",
   "execution_count": 66,
   "metadata": {
    "collapsed": false
   },
   "outputs": [
    {
     "name": "stdout",
     "output_type": "stream",
     "text": [
      "(3, 4)\n"
     ]
    }
   ],
   "source": [
    "print str(tuples[0])"
   ]
  },
  {
   "cell_type": "code",
   "execution_count": 67,
   "metadata": {
    "collapsed": false
   },
   "outputs": [
    {
     "data": {
      "image/png": "[encoded data removed]",
      "text/plain": [
       "<matplotlib.figure.Figure at 0x7f76c60de9d0>"
      ]
     },
     "metadata": {},
     "output_type": "display_data"
    }
   ],
   "source": [
    "plot_b(calculate_data(identity)[0])"
   ]
  },
  {
   "cell_type": "code",
   "execution_count": 70,
   "metadata": {
    "collapsed": false
   },
   "outputs": [
    {
     "data": {
      "image/png": "[encoded data removed]",
      "text/plain": [
       "<matplotlib.figure.Figure at 0x7f76c3d6ca50>"
      ]
     },
     "metadata": {},
     "output_type": "display_data"
    }
   ],
   "source": [
    "plot_b(calculate_data(irrelevant)[0])"
   ]
  },
  {
   "cell_type": "code",
   "execution_count": 66,
   "metadata": {
    "collapsed": false
   },
   "outputs": [],
   "source": [
    "def hist_ready(arr1):    \n",
    "    return arr1\n",
    "\n",
    "submit = []\n",
    "hist_arr = hist_ready(normalized_hash_dist)"
   ]
  },
  {
   "cell_type": "code",
   "execution_count": 82,
   "metadata": {
    "collapsed": true
   },
   "outputs": [],
   "source": [
    "submit = []\n",
    "for elem in tuples:\n",
    "    submit.append(hist_arr[elem[0], elem[1]])"
   ]
  },
  {
   "cell_type": "code",
   "execution_count": 83,
   "metadata": {
    "collapsed": true
   },
   "outputs": [],
   "source": [
    "submitD = []\n",
    "for elem in different:\n",
    "    submitD.append(hist_arr[elem[0], elem[1]])"
   ]
  },
  {
   "cell_type": "code",
   "execution_count": 86,
   "metadata": {
    "collapsed": false
   },
   "outputs": [
    {
     "data": {
      "image/png": "[encoded data removed]",
      "text/plain": [
       "<matplotlib.figure.Figure at 0x7f8f0a8cc250>"
      ]
     },
     "metadata": {},
     "output_type": "display_data"
    },
    {
     "data": {
      "image/png": "[encoded data removed]",
      "text/plain": [
       "<matplotlib.figure.Figure at 0x7f8f0f260f90>"
      ]
     },
     "metadata": {},
     "output_type": "display_data"
    }
   ],
   "source": [
    "import matplotlib.pyplot as plt\n",
    "from numpy.random import normal\n",
    "plt.hist(submit, bins = 50, range = [0,1])\n",
    "plt.title(\"Distance Matrix of Same Person Using Hashes\")\n",
    "plt.xlabel(\"Distance Values of Same Person\")\n",
    "plt.ylabel(\"Counts\")\n",
    "plt.show()\n",
    "\n",
    "\n",
    "plt.hist(submitD, bins = 50, range = [0,1], color = 'red')\n",
    "plt.title(\"Distance Matrix of Different Person Using Hashes\")\n",
    "plt.xlabel(\"Distance Values of Same Person\")\n",
    "plt.ylabel(\"Counts\")\n",
    "plt.show()"
   ]
  },
  {
   "cell_type": "code",
   "execution_count": 69,
   "metadata": {
    "collapsed": false
   },
   "outputs": [],
   "source": [
    "data_identity = calculate_data(identity)[0]\n",
    "data_irrelevant = calculate_data(irrelevant)[0]\n"
   ]
  },
  {
   "cell_type": "code",
   "execution_count": 70,
   "metadata": {
    "collapsed": false
   },
   "outputs": [],
   "source": [
    "data_identity1 = distance.cdist(data_identity, data_identity, 'hamming')\n",
    "data_irrelevant1 = distance.cdist(data_irrelevant, data_irrelevant, 'hamming')"
   ]
  },
  {
   "cell_type": "code",
   "execution_count": 71,
   "metadata": {
    "collapsed": true
   },
   "outputs": [],
   "source": [
    "data_identity1 = data_identity1 / np.max(data_identity1)\n",
    "data_irrelevant1 = data_irrelevant1 / np.max(data_irrelevant1)"
   ]
  },
  {
   "cell_type": "code",
   "execution_count": 97,
   "metadata": {
    "collapsed": true
   },
   "outputs": [],
   "source": [
    "submit = []\n",
    "for elem in tuples:\n",
    "    submit.append(data_identity1[elem[0], elem[1]])\n",
    "submitD = []\n",
    "for elem in different:\n",
    "    submitD.append(data_identity1[elem[0], elem[1]])"
   ]
  },
  {
   "cell_type": "code",
   "execution_count": 98,
   "metadata": {
    "collapsed": false
   },
   "outputs": [
    {
     "data": {
      "image/png": "[encoded data removed]",
      "text/plain": [
       "<matplotlib.figure.Figure at 0x7f8f0a741d90>"
      ]
     },
     "metadata": {},
     "output_type": "display_data"
    }
   ],
   "source": [
    "plt.hist(submit, bins = 20, range = [0,0.8], color = 'blue')\n",
    "plt.title(\"Distance Matrix of Same Person Using Identity Attribtue\")\n",
    "plt.xlabel(\"Distance Values of Same Person\")\n",
    "plt.ylabel(\"Counts\")\n",
    "plt.show()\n",
    "\n",
    "# plt.hist(submitD, bins = 50, range = [0,1], color = 'red')\n",
    "# plt.title(\"Distance Matrix of Different Person Using Identity Attribtue\")\n",
    "# plt.xlabel(\"Distance Values of Same Person\")\n",
    "# plt.ylabel(\"Counts\")\n",
    "\n",
    "# plt.show()"
   ]
  },
  {
   "cell_type": "code",
   "execution_count": 91,
   "metadata": {
    "collapsed": true
   },
   "outputs": [],
   "source": [
    "submit = []\n",
    "for elem in tuples:\n",
    "    submit.append(data_irrelevant1[elem[0], elem[1]])\n",
    "    \n",
    "submitD = []\n",
    "for elem in different:\n",
    "    submitD.append(data_irrelevant1[elem[0], elem[1]])\n",
    "    "
   ]
  },
  {
   "cell_type": "code",
   "execution_count": 95,
   "metadata": {
    "collapsed": false
   },
   "outputs": [
    {
     "data": {
      "image/png": "[encoded data removed]",
      "text/plain": [
       "<matplotlib.figure.Figure at 0x7f8f0f224750>"
      ]
     },
     "metadata": {},
     "output_type": "display_data"
    }
   ],
   "source": [
    "\n",
    "    \n",
    "plt.hist(submit, bins = 20, range = [0,0.8])\n",
    "plt.title(\"Distance Matrix of Same Person Using Irrelevant Attribtue\")\n",
    "plt.xlabel(\"Distance Values of Same Person\")\n",
    "plt.ylabel(\"Counts\")\n",
    "plt.show()\n",
    "\n",
    "\n",
    "\n",
    "    \n",
    "# plt.hist(submitD, bins = 50, range = [0,1], color = 'red')\n",
    "# plt.title(\"Distance Matrix of Same Person Using Irrelevant Attribtue\")\n",
    "# plt.xlabel(\"Distance Values of Same Person\")\n",
    "# plt.ylabel(\"Counts\")\n",
    "# plt.show()"
   ]
  },
  {
   "cell_type": "code",
   "execution_count": 78,
   "metadata": {
    "collapsed": false
   },
   "outputs": [],
   "source": [
    "i = 0\n",
    "different = []\n",
    "while i < len(same):\n",
    "    j = i + 1\n",
    "    while j < len(same):\n",
    "        i1 = 0\n",
    "        while i1 < len(same[i]):\n",
    "            j1 = i1 + 1\n",
    "            while j1 < len(same[j]):\n",
    "                different.append((same[i][i1], same[j][j1]))\n",
    "                j1 += 1\n",
    "            i1 += 1\n",
    "        j += 1\n",
    "    i += 1"
   ]
  },
  {
   "cell_type": "code",
   "execution_count": null,
   "metadata": {
    "collapsed": true
   },
   "outputs": [],
   "source": []
  }
 ],
 "metadata": {
  "anaconda-cloud": {},
  "kernelspec": {
   "display_name": "Python [Root]",
   "language": "python",
   "name": "Python [Root]"
  },
  "language_info": {
   "codemirror_mode": {
    "name": "ipython",
    "version": 2
   },
   "file_extension": ".py",
   "mimetype": "text/x-python",
   "name": "python",
   "nbconvert_exporter": "python",
   "pygments_lexer": "ipython2",
   "version": "2.7.12"
  }
 },
 "nbformat": 4,
 "nbformat_minor": 0
}
